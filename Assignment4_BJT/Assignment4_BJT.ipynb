{
  "cells": [
    {
      "cell_type": "code",
      "execution_count": 4,
      "id": "a32303c2",
      "metadata": {
        "id": "a32303c2"
      },
      "outputs": [],
      "source": [
        "import pandas as pd \n",
        "import numpy as np\n",
        "import seaborn as sns\n",
        "from sklearn import preprocessing\n",
        "from sklearn.preprocessing import StandardScaler\n",
        "import matplotlib.pyplot as plt\n"
      ]
    },
    {
      "cell_type": "code",
      "execution_count": 5,
      "id": "7dd5a217",
      "metadata": {
        "id": "7dd5a217"
      },
      "outputs": [],
      "source": [
        "#live = pd.read_csv('Live.csv')\n",
        "\n",
        "live = pd.read_csv('/content/drive/MyDrive/Colab Notebooks/Assignment4/Live.csv')"
      ]
    },
    {
      "cell_type": "code",
      "source": [
        "from google.colab import drive\n",
        "drive.mount('/content/drive')"
      ],
      "metadata": {
        "colab": {
          "base_uri": "https://localhost:8080/"
        },
        "id": "3QnqxyJjwZ2U",
        "outputId": "d09b5857-8d50-4042-d45e-b2bcee827fa3"
      },
      "id": "3QnqxyJjwZ2U",
      "execution_count": 3,
      "outputs": [
        {
          "output_type": "stream",
          "name": "stdout",
          "text": [
            "Mounted at /content/drive\n"
          ]
        }
      ]
    },
    {
      "cell_type": "code",
      "execution_count": 6,
      "id": "d95b9699",
      "metadata": {
        "colab": {
          "base_uri": "https://localhost:8080/"
        },
        "id": "d95b9699",
        "outputId": "dfafa186-2b93-43fe-ad79-f7b21a9ad214"
      },
      "outputs": [
        {
          "output_type": "execute_result",
          "data": {
            "text/plain": [
              "Index(['status_id', 'status_type', 'status_published', 'num_reactions',\n",
              "       'num_comments', 'num_shares', 'num_likes', 'num_loves', 'num_wows',\n",
              "       'num_hahas', 'num_sads', 'num_angrys'],\n",
              "      dtype='object')"
            ]
          },
          "metadata": {},
          "execution_count": 6
        }
      ],
      "source": [
        "live.columns"
      ]
    },
    {
      "cell_type": "code",
      "execution_count": 7,
      "id": "61b26efe",
      "metadata": {
        "colab": {
          "base_uri": "https://localhost:8080/"
        },
        "id": "61b26efe",
        "outputId": "c402b38b-15c9-4c76-a685-e6a8e25e003f"
      },
      "outputs": [
        {
          "output_type": "execute_result",
          "data": {
            "text/plain": [
              "status_id           0\n",
              "status_type         0\n",
              "status_published    0\n",
              "num_reactions       0\n",
              "num_comments        0\n",
              "num_shares          0\n",
              "num_likes           0\n",
              "num_loves           0\n",
              "num_wows            0\n",
              "num_hahas           0\n",
              "num_sads            0\n",
              "num_angrys          0\n",
              "dtype: int64"
            ]
          },
          "metadata": {},
          "execution_count": 7
        }
      ],
      "source": [
        "live.isnull().sum()"
      ]
    },
    {
      "cell_type": "code",
      "execution_count": 8,
      "id": "0747f0dc",
      "metadata": {
        "id": "0747f0dc"
      },
      "outputs": [],
      "source": [
        "live = live.drop(['status_id','status_published'],axis=1)"
      ]
    },
    {
      "cell_type": "code",
      "execution_count": 9,
      "id": "d7c560f0",
      "metadata": {
        "colab": {
          "base_uri": "https://localhost:8080/"
        },
        "id": "d7c560f0",
        "outputId": "5cd37e45-92ba-45db-a362-50620620f5d0"
      },
      "outputs": [
        {
          "output_type": "execute_result",
          "data": {
            "text/plain": [
              "photo     4288\n",
              "video     2334\n",
              "status     365\n",
              "link        63\n",
              "Name: status_type, dtype: int64"
            ]
          },
          "metadata": {},
          "execution_count": 9
        }
      ],
      "source": [
        "live['status_type'].value_counts()"
      ]
    },
    {
      "cell_type": "code",
      "execution_count": 10,
      "id": "cedeacec",
      "metadata": {
        "colab": {
          "base_uri": "https://localhost:8080/",
          "height": 419
        },
        "id": "cedeacec",
        "outputId": "c7071353-a9ba-4839-caf6-cc70b9fea20d"
      },
      "outputs": [
        {
          "output_type": "execute_result",
          "data": {
            "text/plain": [
              "     status_type  num_reactions  num_comments  num_shares  num_likes  \\\n",
              "0          video            529           512         262        432   \n",
              "1          photo            150             0           0        150   \n",
              "2          video            227           236          57        204   \n",
              "3          photo            111             0           0        111   \n",
              "4          photo            213             0           0        204   \n",
              "...          ...            ...           ...         ...        ...   \n",
              "7045       photo             89             0           0         89   \n",
              "7046       photo             16             0           0         14   \n",
              "7047       photo              2             0           0          1   \n",
              "7048       photo            351            12          22        349   \n",
              "7049       photo             17             0           0         17   \n",
              "\n",
              "      num_loves  num_wows  num_hahas  num_sads  num_angrys  \n",
              "0            92         3          1         1           0  \n",
              "1             0         0          0         0           0  \n",
              "2            21         1          1         0           0  \n",
              "3             0         0          0         0           0  \n",
              "4             9         0          0         0           0  \n",
              "...         ...       ...        ...       ...         ...  \n",
              "7045          0         0          0         0           0  \n",
              "7046          1         0          1         0           0  \n",
              "7047          1         0          0         0           0  \n",
              "7048          2         0          0         0           0  \n",
              "7049          0         0          0         0           0  \n",
              "\n",
              "[7050 rows x 10 columns]"
            ],
            "text/html": [
              "\n",
              "  <div id=\"df-10cf9ff8-a4fc-40da-8d58-188555db87af\">\n",
              "    <div class=\"colab-df-container\">\n",
              "      <div>\n",
              "<style scoped>\n",
              "    .dataframe tbody tr th:only-of-type {\n",
              "        vertical-align: middle;\n",
              "    }\n",
              "\n",
              "    .dataframe tbody tr th {\n",
              "        vertical-align: top;\n",
              "    }\n",
              "\n",
              "    .dataframe thead th {\n",
              "        text-align: right;\n",
              "    }\n",
              "</style>\n",
              "<table border=\"1\" class=\"dataframe\">\n",
              "  <thead>\n",
              "    <tr style=\"text-align: right;\">\n",
              "      <th></th>\n",
              "      <th>status_type</th>\n",
              "      <th>num_reactions</th>\n",
              "      <th>num_comments</th>\n",
              "      <th>num_shares</th>\n",
              "      <th>num_likes</th>\n",
              "      <th>num_loves</th>\n",
              "      <th>num_wows</th>\n",
              "      <th>num_hahas</th>\n",
              "      <th>num_sads</th>\n",
              "      <th>num_angrys</th>\n",
              "    </tr>\n",
              "  </thead>\n",
              "  <tbody>\n",
              "    <tr>\n",
              "      <th>0</th>\n",
              "      <td>video</td>\n",
              "      <td>529</td>\n",
              "      <td>512</td>\n",
              "      <td>262</td>\n",
              "      <td>432</td>\n",
              "      <td>92</td>\n",
              "      <td>3</td>\n",
              "      <td>1</td>\n",
              "      <td>1</td>\n",
              "      <td>0</td>\n",
              "    </tr>\n",
              "    <tr>\n",
              "      <th>1</th>\n",
              "      <td>photo</td>\n",
              "      <td>150</td>\n",
              "      <td>0</td>\n",
              "      <td>0</td>\n",
              "      <td>150</td>\n",
              "      <td>0</td>\n",
              "      <td>0</td>\n",
              "      <td>0</td>\n",
              "      <td>0</td>\n",
              "      <td>0</td>\n",
              "    </tr>\n",
              "    <tr>\n",
              "      <th>2</th>\n",
              "      <td>video</td>\n",
              "      <td>227</td>\n",
              "      <td>236</td>\n",
              "      <td>57</td>\n",
              "      <td>204</td>\n",
              "      <td>21</td>\n",
              "      <td>1</td>\n",
              "      <td>1</td>\n",
              "      <td>0</td>\n",
              "      <td>0</td>\n",
              "    </tr>\n",
              "    <tr>\n",
              "      <th>3</th>\n",
              "      <td>photo</td>\n",
              "      <td>111</td>\n",
              "      <td>0</td>\n",
              "      <td>0</td>\n",
              "      <td>111</td>\n",
              "      <td>0</td>\n",
              "      <td>0</td>\n",
              "      <td>0</td>\n",
              "      <td>0</td>\n",
              "      <td>0</td>\n",
              "    </tr>\n",
              "    <tr>\n",
              "      <th>4</th>\n",
              "      <td>photo</td>\n",
              "      <td>213</td>\n",
              "      <td>0</td>\n",
              "      <td>0</td>\n",
              "      <td>204</td>\n",
              "      <td>9</td>\n",
              "      <td>0</td>\n",
              "      <td>0</td>\n",
              "      <td>0</td>\n",
              "      <td>0</td>\n",
              "    </tr>\n",
              "    <tr>\n",
              "      <th>...</th>\n",
              "      <td>...</td>\n",
              "      <td>...</td>\n",
              "      <td>...</td>\n",
              "      <td>...</td>\n",
              "      <td>...</td>\n",
              "      <td>...</td>\n",
              "      <td>...</td>\n",
              "      <td>...</td>\n",
              "      <td>...</td>\n",
              "      <td>...</td>\n",
              "    </tr>\n",
              "    <tr>\n",
              "      <th>7045</th>\n",
              "      <td>photo</td>\n",
              "      <td>89</td>\n",
              "      <td>0</td>\n",
              "      <td>0</td>\n",
              "      <td>89</td>\n",
              "      <td>0</td>\n",
              "      <td>0</td>\n",
              "      <td>0</td>\n",
              "      <td>0</td>\n",
              "      <td>0</td>\n",
              "    </tr>\n",
              "    <tr>\n",
              "      <th>7046</th>\n",
              "      <td>photo</td>\n",
              "      <td>16</td>\n",
              "      <td>0</td>\n",
              "      <td>0</td>\n",
              "      <td>14</td>\n",
              "      <td>1</td>\n",
              "      <td>0</td>\n",
              "      <td>1</td>\n",
              "      <td>0</td>\n",
              "      <td>0</td>\n",
              "    </tr>\n",
              "    <tr>\n",
              "      <th>7047</th>\n",
              "      <td>photo</td>\n",
              "      <td>2</td>\n",
              "      <td>0</td>\n",
              "      <td>0</td>\n",
              "      <td>1</td>\n",
              "      <td>1</td>\n",
              "      <td>0</td>\n",
              "      <td>0</td>\n",
              "      <td>0</td>\n",
              "      <td>0</td>\n",
              "    </tr>\n",
              "    <tr>\n",
              "      <th>7048</th>\n",
              "      <td>photo</td>\n",
              "      <td>351</td>\n",
              "      <td>12</td>\n",
              "      <td>22</td>\n",
              "      <td>349</td>\n",
              "      <td>2</td>\n",
              "      <td>0</td>\n",
              "      <td>0</td>\n",
              "      <td>0</td>\n",
              "      <td>0</td>\n",
              "    </tr>\n",
              "    <tr>\n",
              "      <th>7049</th>\n",
              "      <td>photo</td>\n",
              "      <td>17</td>\n",
              "      <td>0</td>\n",
              "      <td>0</td>\n",
              "      <td>17</td>\n",
              "      <td>0</td>\n",
              "      <td>0</td>\n",
              "      <td>0</td>\n",
              "      <td>0</td>\n",
              "      <td>0</td>\n",
              "    </tr>\n",
              "  </tbody>\n",
              "</table>\n",
              "<p>7050 rows × 10 columns</p>\n",
              "</div>\n",
              "      <button class=\"colab-df-convert\" onclick=\"convertToInteractive('df-10cf9ff8-a4fc-40da-8d58-188555db87af')\"\n",
              "              title=\"Convert this dataframe to an interactive table.\"\n",
              "              style=\"display:none;\">\n",
              "        \n",
              "  <svg xmlns=\"http://www.w3.org/2000/svg\" height=\"24px\"viewBox=\"0 0 24 24\"\n",
              "       width=\"24px\">\n",
              "    <path d=\"M0 0h24v24H0V0z\" fill=\"none\"/>\n",
              "    <path d=\"M18.56 5.44l.94 2.06.94-2.06 2.06-.94-2.06-.94-.94-2.06-.94 2.06-2.06.94zm-11 1L8.5 8.5l.94-2.06 2.06-.94-2.06-.94L8.5 2.5l-.94 2.06-2.06.94zm10 10l.94 2.06.94-2.06 2.06-.94-2.06-.94-.94-2.06-.94 2.06-2.06.94z\"/><path d=\"M17.41 7.96l-1.37-1.37c-.4-.4-.92-.59-1.43-.59-.52 0-1.04.2-1.43.59L10.3 9.45l-7.72 7.72c-.78.78-.78 2.05 0 2.83L4 21.41c.39.39.9.59 1.41.59.51 0 1.02-.2 1.41-.59l7.78-7.78 2.81-2.81c.8-.78.8-2.07 0-2.86zM5.41 20L4 18.59l7.72-7.72 1.47 1.35L5.41 20z\"/>\n",
              "  </svg>\n",
              "      </button>\n",
              "      \n",
              "  <style>\n",
              "    .colab-df-container {\n",
              "      display:flex;\n",
              "      flex-wrap:wrap;\n",
              "      gap: 12px;\n",
              "    }\n",
              "\n",
              "    .colab-df-convert {\n",
              "      background-color: #E8F0FE;\n",
              "      border: none;\n",
              "      border-radius: 50%;\n",
              "      cursor: pointer;\n",
              "      display: none;\n",
              "      fill: #1967D2;\n",
              "      height: 32px;\n",
              "      padding: 0 0 0 0;\n",
              "      width: 32px;\n",
              "    }\n",
              "\n",
              "    .colab-df-convert:hover {\n",
              "      background-color: #E2EBFA;\n",
              "      box-shadow: 0px 1px 2px rgba(60, 64, 67, 0.3), 0px 1px 3px 1px rgba(60, 64, 67, 0.15);\n",
              "      fill: #174EA6;\n",
              "    }\n",
              "\n",
              "    [theme=dark] .colab-df-convert {\n",
              "      background-color: #3B4455;\n",
              "      fill: #D2E3FC;\n",
              "    }\n",
              "\n",
              "    [theme=dark] .colab-df-convert:hover {\n",
              "      background-color: #434B5C;\n",
              "      box-shadow: 0px 1px 3px 1px rgba(0, 0, 0, 0.15);\n",
              "      filter: drop-shadow(0px 1px 2px rgba(0, 0, 0, 0.3));\n",
              "      fill: #FFFFFF;\n",
              "    }\n",
              "  </style>\n",
              "\n",
              "      <script>\n",
              "        const buttonEl =\n",
              "          document.querySelector('#df-10cf9ff8-a4fc-40da-8d58-188555db87af button.colab-df-convert');\n",
              "        buttonEl.style.display =\n",
              "          google.colab.kernel.accessAllowed ? 'block' : 'none';\n",
              "\n",
              "        async function convertToInteractive(key) {\n",
              "          const element = document.querySelector('#df-10cf9ff8-a4fc-40da-8d58-188555db87af');\n",
              "          const dataTable =\n",
              "            await google.colab.kernel.invokeFunction('convertToInteractive',\n",
              "                                                     [key], {});\n",
              "          if (!dataTable) return;\n",
              "\n",
              "          const docLinkHtml = 'Like what you see? Visit the ' +\n",
              "            '<a target=\"_blank\" href=https://colab.research.google.com/notebooks/data_table.ipynb>data table notebook</a>'\n",
              "            + ' to learn more about interactive tables.';\n",
              "          element.innerHTML = '';\n",
              "          dataTable['output_type'] = 'display_data';\n",
              "          await google.colab.output.renderOutput(dataTable, element);\n",
              "          const docLink = document.createElement('div');\n",
              "          docLink.innerHTML = docLinkHtml;\n",
              "          element.appendChild(docLink);\n",
              "        }\n",
              "      </script>\n",
              "    </div>\n",
              "  </div>\n",
              "  "
            ]
          },
          "metadata": {},
          "execution_count": 10
        }
      ],
      "source": [
        "live"
      ]
    },
    {
      "cell_type": "code",
      "execution_count": 11,
      "id": "e483d62a",
      "metadata": {
        "colab": {
          "base_uri": "https://localhost:8080/"
        },
        "id": "e483d62a",
        "outputId": "39f07483-df13-421c-bd39-9cd5d79aa0dc"
      },
      "outputs": [
        {
          "output_type": "stream",
          "name": "stderr",
          "text": [
            "/usr/local/lib/python3.7/dist-packages/sklearn/preprocessing/_label.py:115: DataConversionWarning: A column-vector y was passed when a 1d array was expected. Please change the shape of y to (n_samples, ), for example using ravel().\n",
            "  y = column_or_1d(y, warn=True)\n"
          ]
        }
      ],
      "source": [
        "X = live.drop(['status_type'],axis = 1)\n",
        "y = live[['status_type']]\n",
        "\n",
        "le = preprocessing.LabelEncoder()\n",
        "sc = StandardScaler()\n",
        "#X = sc.fit_transform(X)\n",
        "\n",
        "\n",
        "y = le.fit_transform(y)"
      ]
    },
    {
      "cell_type": "markdown",
      "id": "c3770dba",
      "metadata": {
        "id": "c3770dba"
      },
      "source": [
        "from sklearn.model_selection import train_test_split \n",
        "\n",
        "X_train,X_test,y_train,y_test = train_test_split(X,y,test_size=.2,stratify=y)"
      ]
    },
    {
      "cell_type": "code",
      "execution_count": 12,
      "id": "88810e37",
      "metadata": {
        "colab": {
          "base_uri": "https://localhost:8080/",
          "height": 376
        },
        "id": "88810e37",
        "outputId": "a58d7cdf-47a2-47a4-be85-24f568cb5214"
      },
      "outputs": [
        {
          "output_type": "display_data",
          "data": {
            "text/plain": [
              "<Figure size 576x396 with 2 Axes>"
            ],
            "image/png": "[encoded data removed]"
          },
          "metadata": {}
        }
      ],
      "source": [
        "from sklearn.cluster import KMeans\n",
        "from yellowbrick.cluster import KElbowVisualizer\n",
        "\n",
        "km = KMeans(random_state=0)\n",
        "\n",
        "visualizer = KElbowVisualizer(km, k=(2,15), metric = 'silhouette')\n",
        "\n",
        "visualizer.fit(X)\n",
        "\n",
        "visualizer.show()\n",
        "plt.show()"
      ]
    },
    {
      "cell_type": "code",
      "execution_count": 13,
      "id": "8ac3c566",
      "metadata": {
        "id": "8ac3c566"
      },
      "outputs": [],
      "source": [
        "km = KMeans(n_clusters = 2,random_state=0)\n",
        "\n",
        "y_pred = km.fit_predict(X)\n",
        "\n",
        "\n",
        "live['cluster']=y_pred"
      ]
    },
    {
      "cell_type": "code",
      "execution_count": 14,
      "id": "ba8c34d5",
      "metadata": {
        "colab": {
          "base_uri": "https://localhost:8080/"
        },
        "id": "ba8c34d5",
        "outputId": "5f2ed481-1a8d-4499-ecfe-eaaf7eaa742a"
      },
      "outputs": [
        {
          "output_type": "execute_result",
          "data": {
            "text/plain": [
              "array([[2.24142278e+02, 1.22109857e+02, 3.08061948e+01, 2.11227529e+02,\n",
              "        1.09083804e+01, 1.15298886e+00, 5.56809958e-01, 1.97423650e-01,\n",
              "        9.63960052e-02],\n",
              "       [5.22886525e+02, 5.23441844e+03, 4.91624113e+02, 4.02007092e+02,\n",
              "        1.01921986e+02, 7.97163121e+00, 7.53900709e+00, 2.51063830e+00,\n",
              "        9.36170213e-01]])"
            ]
          },
          "metadata": {},
          "execution_count": 14
        }
      ],
      "source": [
        "km.cluster_centers_"
      ]
    },
    {
      "cell_type": "code",
      "execution_count": 15,
      "id": "c5ef1bba",
      "metadata": {
        "colab": {
          "base_uri": "https://localhost:8080/",
          "height": 432
        },
        "id": "c5ef1bba",
        "outputId": "6e233da3-0f11-4db0-f857-393cebd6c875"
      },
      "outputs": [
        {
          "output_type": "stream",
          "name": "stderr",
          "text": [
            "/usr/local/lib/python3.7/dist-packages/seaborn/_decorators.py:43: FutureWarning: Pass the following variables as keyword args: x, y. From version 0.12, the only valid positional argument will be `data`, and passing other arguments without an explicit keyword will result in an error or misinterpretation.\n",
            "  FutureWarning\n"
          ]
        },
        {
          "output_type": "execute_result",
          "data": {
            "text/plain": [
              "<matplotlib.collections.PathCollection at 0x7fe1c05d8910>"
            ]
          },
          "metadata": {},
          "execution_count": 15
        },
        {
          "output_type": "display_data",
          "data": {
            "text/plain": [
              "<Figure size 576x396 with 1 Axes>"
            ],
            "image/png": "[encoded data removed]"
          },
          "metadata": {}
        }
      ],
      "source": [
        "sns.scatterplot('num_reactions','num_likes',data=live, \n",
        "               hue=live['cluster'], \n",
        "               palette='Set1',legend='full')\n",
        "\n",
        "plt.scatter(km.cluster_centers_[:,0], km.cluster_centers_[:,1], \n",
        "           marker='*',s=80,c='black')"
      ]
    },
    {
      "cell_type": "code",
      "execution_count": 16,
      "id": "90cda661",
      "metadata": {
        "colab": {
          "base_uri": "https://localhost:8080/"
        },
        "id": "90cda661",
        "outputId": "e4495922-fae1-4d00-9fba-de6ec10fa1b2"
      },
      "outputs": [
        {
          "output_type": "stream",
          "name": "stdout",
          "text": [
            "The silhouette coefficient is:   0.11245677993353945\n"
          ]
        }
      ],
      "source": [
        "y = y.reshape(-1,1)\n",
        "from sklearn import metrics \n",
        "\n",
        "silhouette_avg = metrics.silhouette_score(y,y_pred)\n",
        "\n",
        "print('The silhouette coefficient is:  ',silhouette_avg)"
      ]
    },
    {
      "cell_type": "markdown",
      "id": "ae4e647b",
      "metadata": {
        "id": "ae4e647b"
      },
      "source": [
        "# DBSCAN"
      ]
    },
    {
      "cell_type": "code",
      "execution_count": 17,
      "id": "a0c2fdac",
      "metadata": {
        "id": "a0c2fdac"
      },
      "outputs": [],
      "source": [
        "from sklearn.cluster import DBSCAN"
      ]
    },
    {
      "cell_type": "code",
      "execution_count": 18,
      "id": "748592d1",
      "metadata": {
        "id": "748592d1"
      },
      "outputs": [],
      "source": [
        "cluster = DBSCAN(eps=3,min_samples=4).fit(X)"
      ]
    },
    {
      "cell_type": "code",
      "execution_count": 19,
      "id": "2d19c69b",
      "metadata": {
        "colab": {
          "base_uri": "https://localhost:8080/"
        },
        "id": "2d19c69b",
        "outputId": "b3a436a3-2031-40e3-a74a-05c2ea5298b4"
      },
      "outputs": [
        {
          "output_type": "execute_result",
          "data": {
            "text/plain": [
              "{-1,\n",
              " 0,\n",
              " 1,\n",
              " 2,\n",
              " 3,\n",
              " 4,\n",
              " 5,\n",
              " 6,\n",
              " 7,\n",
              " 8,\n",
              " 9,\n",
              " 10,\n",
              " 11,\n",
              " 12,\n",
              " 13,\n",
              " 14,\n",
              " 15,\n",
              " 16,\n",
              " 17,\n",
              " 18,\n",
              " 19,\n",
              " 20,\n",
              " 21,\n",
              " 22,\n",
              " 23,\n",
              " 24,\n",
              " 25,\n",
              " 26,\n",
              " 27,\n",
              " 28,\n",
              " 29,\n",
              " 30,\n",
              " 31}"
            ]
          },
          "metadata": {},
          "execution_count": 19
        }
      ],
      "source": [
        "set(cluster.labels_)"
      ]
    },
    {
      "cell_type": "code",
      "execution_count": 21,
      "id": "afbbfb28",
      "metadata": {
        "colab": {
          "base_uri": "https://localhost:8080/",
          "height": 605
        },
        "id": "afbbfb28",
        "outputId": "c5eb2a89-ab68-4a4f-8bea-b6a0f3d68a0a"
      },
      "outputs": [
        {
          "output_type": "stream",
          "name": "stderr",
          "text": [
            "/usr/local/lib/python3.7/dist-packages/seaborn/_decorators.py:43: FutureWarning: Pass the following variables as keyword args: x, y. From version 0.12, the only valid positional argument will be `data`, and passing other arguments without an explicit keyword will result in an error or misinterpretation.\n",
            "  FutureWarning\n"
          ]
        },
        {
          "output_type": "execute_result",
          "data": {
            "text/plain": [
              "<matplotlib.collections.PathCollection at 0x7fe1c0362ed0>"
            ]
          },
          "metadata": {},
          "execution_count": 21
        },
        {
          "output_type": "display_data",
          "data": {
            "text/plain": [
              "<Figure size 576x396 with 1 Axes>"
            ],
            "image/png": "[encoded data removed]"
          },
          "metadata": {}
        }
      ],
      "source": [
        "tt = sns.scatterplot('num_reactions','num_likes',data=X,\n",
        "                    hue=cluster.labels_,palette='Set2',\n",
        "                     legend='full')\n",
        "plt.scatter(km.cluster_centers_[:,0], km.cluster_centers_[:,1], \n",
        "           marker='*',s=80,c='black')"
      ]
    },
    {
      "cell_type": "code",
      "execution_count": 20,
      "id": "a4b3bd88",
      "metadata": {
        "id": "a4b3bd88"
      },
      "outputs": [],
      "source": []
    },
    {
      "cell_type": "code",
      "execution_count": 20,
      "id": "28e74381",
      "metadata": {
        "id": "28e74381"
      },
      "outputs": [],
      "source": []
    },
    {
      "cell_type": "code",
      "execution_count": 20,
      "id": "0f404aa3",
      "metadata": {
        "id": "0f404aa3"
      },
      "outputs": [],
      "source": []
    }
  ],
  "metadata": {
    "kernelspec": {
      "display_name": "Python 3 (ipykernel)",
      "language": "python",
      "name": "python3"
    },
    "language_info": {
      "codemirror_mode": {
        "name": "ipython",
        "version": 3
      },
      "file_extension": ".py",
      "mimetype": "text/x-python",
      "name": "python",
      "nbconvert_exporter": "python",
      "pygments_lexer": "ipython3",
      "version": "3.9.13"
    },
    "colab": {
      "provenance": []
    }
  },
  "nbformat": 4,
  "nbformat_minor": 5
}