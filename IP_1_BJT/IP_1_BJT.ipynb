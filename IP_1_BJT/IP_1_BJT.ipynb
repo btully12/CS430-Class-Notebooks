{
  "nbformat": 4,
  "nbformat_minor": 0,
  "metadata": {
    "colab": {
      "provenance": [],
      "collapsed_sections": []
    },
    "kernelspec": {
      "name": "python3",
      "display_name": "Python 3"
    },
    "language_info": {
      "name": "python"
    },
    "accelerator": "GPU"
  },
  "cells": [
    {
      "cell_type": "code",
      "execution_count": 76,
      "metadata": {
        "id": "eRPw8c5yzScC"
      },
      "outputs": [],
      "source": [
        "\n",
        "import pandas as pd \n",
        "from sklearn.svm import SVR \n",
        "import seaborn as sns\n",
        "import numpy as np\n",
        "from sklearn.model_selection import train_test_split\n",
        "import matplotlib.pyplot as plt\n",
        "\n",
        "from sklearn.preprocessing import StandardScaler\n",
        "from scipy.stats import uniform\n",
        "from sklearn import linear_model, datasets\n",
        "from sklearn.tree import DecisionTreeClassifier\n",
        "from sklearn.ensemble import BaggingClassifier,RandomForestClassifier,RandomTreesEmbedding, GradientBoostingClassifier, AdaBoostClassifier\n",
        "from sklearn.linear_model import SGDRegressor, Lasso, LinearRegression,LogisticRegression\n",
        "from sklearn.svm import SVR,SVC\n",
        "from sklearn.metrics import ConfusionMatrixDisplay,confusion_matrix,classification_report"
      ]
    },
    {
      "cell_type": "code",
      "source": [
        "df = pd.read_csv('/content/drive/MyDrive/Colab Notebooks/IP_1/Heart Failure Clinical Records.csv')"
      ],
      "metadata": {
        "id": "09dxEf2WzxXA"
      },
      "execution_count": 77,
      "outputs": []
    },
    {
      "cell_type": "markdown",
      "source": [
        "# Checking datatypes and null values"
      ],
      "metadata": {
        "id": "crb4sUlLkwtH"
      }
    },
    {
      "cell_type": "code",
      "source": [
        "\n",
        "df.info()"
      ],
      "metadata": {
        "colab": {
          "base_uri": "https://localhost:8080/"
        },
        "id": "2jExjBB3nsOz",
        "outputId": "dbf97b0b-d89f-45ec-b649-685a1b09c24b"
      },
      "execution_count": 78,
      "outputs": [
        {
          "output_type": "stream",
          "name": "stdout",
          "text": [
            "<class 'pandas.core.frame.DataFrame'>\n",
            "RangeIndex: 299 entries, 0 to 298\n",
            "Data columns (total 13 columns):\n",
            " #   Column                    Non-Null Count  Dtype  \n",
            "---  ------                    --------------  -----  \n",
            " 0   age                       299 non-null    float64\n",
            " 1   anaemia                   299 non-null    int64  \n",
            " 2   creatinine_phosphokinase  299 non-null    int64  \n",
            " 3   diabetes                  299 non-null    int64  \n",
            " 4   ejection_fraction         299 non-null    int64  \n",
            " 5   high_blood_pressure       299 non-null    int64  \n",
            " 6   platelets                 299 non-null    float64\n",
            " 7   serum_creatinine          299 non-null    float64\n",
            " 8   serum_sodium              299 non-null    int64  \n",
            " 9   sex                       299 non-null    int64  \n",
            " 10  smoking                   299 non-null    int64  \n",
            " 11  time                      299 non-null    int64  \n",
            " 12  DEATH_EVENT               299 non-null    int64  \n",
            "dtypes: float64(3), int64(10)\n",
            "memory usage: 30.5 KB\n"
          ]
        }
      ]
    },
    {
      "cell_type": "code",
      "source": [
        "df.isnull().sum()"
      ],
      "metadata": {
        "colab": {
          "base_uri": "https://localhost:8080/"
        },
        "id": "3ukQcMRYkto7",
        "outputId": "249abcc7-a56a-4099-9c3f-0ae2ad93ce97"
      },
      "execution_count": 79,
      "outputs": [
        {
          "output_type": "execute_result",
          "data": {
            "text/plain": [
              "age                         0\n",
              "anaemia                     0\n",
              "creatinine_phosphokinase    0\n",
              "diabetes                    0\n",
              "ejection_fraction           0\n",
              "high_blood_pressure         0\n",
              "platelets                   0\n",
              "serum_creatinine            0\n",
              "serum_sodium                0\n",
              "sex                         0\n",
              "smoking                     0\n",
              "time                        0\n",
              "DEATH_EVENT                 0\n",
              "dtype: int64"
            ]
          },
          "metadata": {},
          "execution_count": 79
        }
      ]
    },
    {
      "cell_type": "code",
      "source": [
        "df.dtypes"
      ],
      "metadata": {
        "colab": {
          "base_uri": "https://localhost:8080/"
        },
        "id": "VoyXipC8jCrF",
        "outputId": "7058bc09-8f73-44ca-c706-7703d7b47958"
      },
      "execution_count": 80,
      "outputs": [
        {
          "output_type": "execute_result",
          "data": {
            "text/plain": [
              "age                         float64\n",
              "anaemia                       int64\n",
              "creatinine_phosphokinase      int64\n",
              "diabetes                      int64\n",
              "ejection_fraction             int64\n",
              "high_blood_pressure           int64\n",
              "platelets                   float64\n",
              "serum_creatinine            float64\n",
              "serum_sodium                  int64\n",
              "sex                           int64\n",
              "smoking                       int64\n",
              "time                          int64\n",
              "DEATH_EVENT                   int64\n",
              "dtype: object"
            ]
          },
          "metadata": {},
          "execution_count": 80
        }
      ]
    },
    {
      "cell_type": "markdown",
      "source": [
        "# Time column is unneeded, so we will drop it"
      ],
      "metadata": {
        "id": "NidwxPRak4Z7"
      }
    },
    {
      "cell_type": "code",
      "source": [
        "df.drop('time',inplace=True,axis=1)"
      ],
      "metadata": {
        "id": "bSpygJQvn4b-"
      },
      "execution_count": 81,
      "outputs": []
    },
    {
      "cell_type": "markdown",
      "source": [
        "### I did not realize it until it was too late, but dropping the time column actually destroyed my potential scores. In class, I turned that line off and all my scores improved significantly, but I did not discuss the scores after keeping the time column in the presentation and in my paper\n",
        "\n",
        "# So Dr. Sarkar, if wanted, remove the time column or keep it"
      ],
      "metadata": {
        "id": "D5rnhBSrxutA"
      }
    },
    {
      "cell_type": "markdown",
      "source": [
        "# Assigning X and Y variables"
      ],
      "metadata": {
        "id": "GR3gPMYok_9V"
      }
    },
    {
      "cell_type": "code",
      "source": [
        "X = df.drop(['DEATH_EVENT'],axis=1)\n",
        "y = df['DEATH_EVENT']"
      ],
      "metadata": {
        "id": "34YAPrX-n_6O"
      },
      "execution_count": 82,
      "outputs": []
    },
    {
      "cell_type": "markdown",
      "source": [
        "# Since we have an unbalanced y, we will stratify our y when splitting the data after scaling our X variable"
      ],
      "metadata": {
        "id": "GMtC-QfulDyH"
      }
    },
    {
      "cell_type": "code",
      "source": [
        "df.DEATH_EVENT.value_counts()"
      ],
      "metadata": {
        "colab": {
          "base_uri": "https://localhost:8080/"
        },
        "id": "UsKTLHbBoW-d",
        "outputId": "fa97ba4b-e2e1-4afe-f501-3734ec9b1cdc"
      },
      "execution_count": 83,
      "outputs": [
        {
          "output_type": "execute_result",
          "data": {
            "text/plain": [
              "0    203\n",
              "1     96\n",
              "Name: DEATH_EVENT, dtype: int64"
            ]
          },
          "metadata": {},
          "execution_count": 83
        }
      ]
    },
    {
      "cell_type": "code",
      "source": [
        "\n",
        "scaler = StandardScaler()\n",
        "\n",
        "\n",
        "X = scaler.fit_transform(X)"
      ],
      "metadata": {
        "id": "VEYTZzYfodxC"
      },
      "execution_count": 84,
      "outputs": []
    },
    {
      "cell_type": "code",
      "source": [
        "X_train, X_test,y_train,y_test = train_test_split(X,y, \n",
        "                                                  test_size =.20,\n",
        "                                                  random_state=0, \n",
        "                                                  stratify=y)"
      ],
      "metadata": {
        "id": "JoQ2SR_Uodsu"
      },
      "execution_count": 85,
      "outputs": []
    },
    {
      "cell_type": "markdown",
      "source": [
        "# Creating the parameters for our models "
      ],
      "metadata": {
        "id": "lwUODTqJlhcR"
      }
    },
    {
      "cell_type": "code",
      "source": [
        "log_clf = LogisticRegression(solver='lbfgs',\n",
        "                             multi_class='multinomial', \n",
        "                             max_iter = 10000)\n",
        "\n",
        "rnd_clf = RandomForestClassifier(criterion='entropy',\n",
        "                                 max_features='sqrt')\n",
        "\n",
        "\n",
        "svm_clf= SVC(gamma='auto',probability = True, C=10,kernel = 'rbf')\n",
        "\n",
        "dt_clf = DecisionTreeClassifier(criterion='gini',\n",
        "                                splitter='best')"
      ],
      "metadata": {
        "id": "Qd2cXEyyodnY"
      },
      "execution_count": 86,
      "outputs": []
    },
    {
      "cell_type": "code",
      "source": [
        "from sklearn.ensemble import RandomForestClassifier, VotingClassifier"
      ],
      "metadata": {
        "id": "7Vo258vLsnQP"
      },
      "execution_count": 87,
      "outputs": []
    },
    {
      "cell_type": "markdown",
      "source": [
        "# Initializing the Voting Classifier"
      ],
      "metadata": {
        "id": "RAuKbKJeluxI"
      }
    },
    {
      "cell_type": "code",
      "source": [
        "voting_clf = VotingClassifier( \n",
        "    estimators=[('lr',log_clf),\n",
        "                ('rf',rnd_clf),\n",
        "                ('sv',svm_clf),\n",
        "                ('dt',dt_clf)],  \n",
        "                voting = 'hard')\n"
      ],
      "metadata": {
        "id": "nyPwziOXqaRg"
      },
      "execution_count": 88,
      "outputs": []
    },
    {
      "cell_type": "code",
      "source": [
        "voting_clf.fit(X_train,y_train)\n",
        "voting_clf.score(X_test,y_test)"
      ],
      "metadata": {
        "colab": {
          "base_uri": "https://localhost:8080/"
        },
        "id": "NBMJWLKdqjLJ",
        "outputId": "a866812f-639b-438e-fc5c-9a9d3789c2be"
      },
      "execution_count": 89,
      "outputs": [
        {
          "output_type": "execute_result",
          "data": {
            "text/plain": [
              "0.7833333333333333"
            ]
          },
          "metadata": {},
          "execution_count": 89
        }
      ]
    },
    {
      "cell_type": "code",
      "source": [
        "#Testing to see if the model is overfitting, which it is\n",
        "\n",
        "\n",
        "voting_clf.score(X_train,y_train)"
      ],
      "metadata": {
        "colab": {
          "base_uri": "https://localhost:8080/"
        },
        "id": "OSoMuVrfl8Gu",
        "outputId": "94a97843-38af-4b94-eafc-456212552ea6"
      },
      "execution_count": 90,
      "outputs": [
        {
          "output_type": "execute_result",
          "data": {
            "text/plain": [
              "0.9790794979079498"
            ]
          },
          "metadata": {},
          "execution_count": 90
        }
      ]
    },
    {
      "cell_type": "code",
      "source": [
        "y_pred_vote = voting_clf.predict(X_test)\n",
        "cmd = confusion_matrix(y_test,y_pred_vote)\n",
        "disp = ConfusionMatrixDisplay(confusion_matrix=cmd, \n",
        "                              display_labels=voting_clf.classes_)\n",
        "disp.plot()\n",
        "\n",
        "plt.show()"
      ],
      "metadata": {
        "colab": {
          "base_uri": "https://localhost:8080/",
          "height": 279
        },
        "id": "FTQvDTkWj6iL",
        "outputId": "0fea182a-14f5-46d3-e7b6-8984f1adb552"
      },
      "execution_count": 91,
      "outputs": [
        {
          "output_type": "display_data",
          "data": {
            "text/plain": [
              "<Figure size 432x288 with 2 Axes>"
            ],
            "image/png": "[encoded data removed]"
          },
          "metadata": {
            "needs_background": "light"
          }
        }
      ]
    },
    {
      "cell_type": "markdown",
      "source": [
        "# Initializing the Bagging Classifier, but using our voting ensemble as the model"
      ],
      "metadata": {
        "id": "CdBT3ZTwmIN3"
      }
    },
    {
      "cell_type": "code",
      "source": [
        "bag_clf = BaggingClassifier(voting_clf, \n",
        "           n_estimators=500, \n",
        "           max_samples = .8, \n",
        "           oob_score=True,\n",
        "           random_state=0)"
      ],
      "metadata": {
        "id": "HaTbGxfzt8KA"
      },
      "execution_count": 92,
      "outputs": []
    },
    {
      "cell_type": "code",
      "source": [
        "bag_clf.fit(X_train,y_train)"
      ],
      "metadata": {
        "id": "VDtHloMruBA4"
      },
      "execution_count": null,
      "outputs": []
    },
    {
      "cell_type": "code",
      "source": [
        "\n",
        "bag_clf.score(X_train,y_train)"
      ],
      "metadata": {
        "id": "EOEqWOFluFNl"
      },
      "execution_count": null,
      "outputs": []
    },
    {
      "cell_type": "code",
      "source": [
        "bag_clf.score(X_test,y_test)"
      ],
      "metadata": {
        "id": "Al-fuNCyuIGj"
      },
      "execution_count": null,
      "outputs": []
    },
    {
      "cell_type": "markdown",
      "source": [
        "# Again, overfitting our data\n",
        "\n"
      ],
      "metadata": {
        "id": "-KyVgdN_mSBJ"
      }
    },
    {
      "cell_type": "code",
      "source": [
        "y_pred_bag = bag_clf.predict(X_test)\n",
        "cmd = confusion_matrix(y_test,y_pred_bag)\n",
        "disp = ConfusionMatrixDisplay(confusion_matrix=cmd, \n",
        "                              display_labels=bag_clf.classes_)\n",
        "disp.plot()\n",
        "\n",
        "plt.show()"
      ],
      "metadata": {
        "id": "Io9kVuJx8ppm"
      },
      "execution_count": null,
      "outputs": []
    },
    {
      "cell_type": "markdown",
      "source": [
        "# Testing Gradient Boosting Classifier"
      ],
      "metadata": {
        "id": "pvQBhoEnmZoW"
      }
    },
    {
      "cell_type": "code",
      "source": [
        "from sklearn.ensemble import GradientBoostingClassifier \n",
        "grd_clf = GradientBoostingClassifier(n_estimators=50,\n",
        "                                     learning_rate=1,\n",
        "                                     random_state=0)\n",
        "grd_clf.fit(X_train,y_train)\n",
        "grd_clf.score(X_test,y_test)"
      ],
      "metadata": {
        "id": "GrIyzPusuc8g"
      },
      "execution_count": null,
      "outputs": []
    },
    {
      "cell_type": "code",
      "source": [
        "#Overfitting\n",
        "grd_clf.score(X_train,y_train)"
      ],
      "metadata": {
        "id": "BYFkC65AxuLa"
      },
      "execution_count": null,
      "outputs": []
    },
    {
      "cell_type": "code",
      "source": [
        "y_pred_grd = grd_clf.predict(X_test)\n",
        "cmd = confusion_matrix(y_test,y_pred_grd)\n",
        "disp = ConfusionMatrixDisplay(confusion_matrix=cmd, \n",
        "                              display_labels=grd_clf.classes_)\n",
        "disp.plot()\n",
        "\n",
        "plt.show()"
      ],
      "metadata": {
        "id": "Gr9OZeXs8xk0"
      },
      "execution_count": null,
      "outputs": []
    },
    {
      "cell_type": "markdown",
      "source": [
        "# Testing Ada Boosting Classifier"
      ],
      "metadata": {
        "id": "6Z3GSuPMmnFy"
      }
    },
    {
      "cell_type": "code",
      "source": [
        "from sklearn.ensemble import AdaBoostClassifier\n",
        "\n",
        "ada_clf = AdaBoostClassifier(n_estimators=500, random_state=0, \n",
        "                             learning_rate=1)\n",
        "\n",
        "ada_clf.fit(X_train,y_train)\n"
      ],
      "metadata": {
        "id": "5UKAJu3Jux0j"
      },
      "execution_count": null,
      "outputs": []
    },
    {
      "cell_type": "code",
      "source": [
        "ada_clf.score(X_test,y_test)"
      ],
      "metadata": {
        "id": "Qbv0u3BJuxq3"
      },
      "execution_count": null,
      "outputs": []
    },
    {
      "cell_type": "code",
      "source": [
        "ada_clf.score(X_train,y_train)"
      ],
      "metadata": {
        "id": "gvzydO_Bu3dw"
      },
      "execution_count": null,
      "outputs": []
    },
    {
      "cell_type": "code",
      "source": [
        "y_pred_ada = ada_clf.predict(X_test)\n",
        "cmd = confusion_matrix(y_test,y_pred_ada)\n",
        "disp = ConfusionMatrixDisplay(confusion_matrix=cmd, \n",
        "                              display_labels=ada_clf.classes_)\n",
        "disp.plot()\n",
        "\n",
        "plt.show()"
      ],
      "metadata": {
        "id": "mc5ABHg63n01"
      },
      "execution_count": null,
      "outputs": []
    },
    {
      "cell_type": "markdown",
      "source": [
        "# Creating our report from our models we have used"
      ],
      "metadata": {
        "id": "5dngLPwAo-Kz"
      }
    },
    {
      "cell_type": "code",
      "source": [
        "from numpy.core.arrayprint import format_float_scientific \n",
        "from sklearn.metrics import accuracy_score,r2_score,mean_absolute_error,mean_squared_error\n",
        "\n",
        "for clf in(log_clf,rnd_clf,svm_clf,voting_clf,ada_clf,grd_clf,bag_clf):\n",
        "  clf.fit(X_train,y_train) \n",
        "  y_pred = clf.predict(X_test)\n",
        "  clf_df = clf.__class__.__name__,accuracy_score(y_test,y_pred)\n",
        "  print(clf_df)\n",
        "  mae = mean_absolute_error(y_test, y_pred)\n",
        "  mse = mean_squared_error(y_test, y_pred)\n",
        "  rmse = np.sqrt(mse) \n",
        "  r2 = r2_score(y_test, y_pred)\n",
        "  print(\"Results of sklearn.metrics:\")\n",
        "  print(\"MAE:\",mae)\n",
        "  print(\"MSE:\", mse)\n",
        "  print(\"RMSE:\", rmse)\n",
        "  print(\"R-Squared:\", r2)\n",
        "  print(classification_report(y_test,y_pred)) "
      ],
      "metadata": {
        "id": "adsG2PQNurTP"
      },
      "execution_count": null,
      "outputs": []
    },
    {
      "cell_type": "code",
      "source": [],
      "metadata": {
        "id": "DuR0Zhq-xPRo"
      },
      "execution_count": null,
      "outputs": []
    }
  ]
}