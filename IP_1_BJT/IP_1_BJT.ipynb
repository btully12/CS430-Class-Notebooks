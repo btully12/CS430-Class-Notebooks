{
  "nbformat": 4,
  "nbformat_minor": 0,
  "metadata": {
    "colab": {
      "provenance": [],
      "collapsed_sections": []
    },
    "kernelspec": {
      "name": "python3",
      "display_name": "Python 3"
    },
    "language_info": {
      "name": "python"
    },
    "accelerator": "GPU"
  },
  "cells": [
    {
      "cell_type": "code",
      "execution_count": 241,
      "metadata": {
        "id": "eRPw8c5yzScC"
      },
      "outputs": [],
      "source": [
        "\n",
        "import pandas as pd \n",
        "from sklearn.svm import SVR \n",
        "import seaborn as sns\n",
        "import numpy as np\n",
        "from sklearn.model_selection import train_test_split\n",
        "\n",
        "from sklearn.preprocessing import StandardScaler\n",
        "from scipy.stats import uniform\n",
        "from sklearn import linear_model, datasets\n",
        "from sklearn.tree import DecisionTreeClassifier\n",
        "from sklearn.ensemble import BaggingClassifier,RandomForestClassifier,RandomTreesEmbedding, GradientBoostingClassifier, AdaBoostClassifier\n",
        "from sklearn.linear_model import SGDRegressor, Lasso, LinearRegression,LogisticRegression\n",
        "from sklearn.svm import SVR,SVC\n",
        "from sklearn.metrics import ConfusionMatrixDisplay,confusion_matrix,classification_report"
      ]
    },
    {
      "cell_type": "code",
      "source": [
        "df = pd.read_csv('/content/drive/MyDrive/Colab Notebooks/IP_1/Heart Failure Clinical Records.csv')"
      ],
      "metadata": {
        "id": "09dxEf2WzxXA"
      },
      "execution_count": 242,
      "outputs": []
    },
    {
      "cell_type": "markdown",
      "source": [
        "# Checking datatypes and null values"
      ],
      "metadata": {
        "id": "crb4sUlLkwtH"
      }
    },
    {
      "cell_type": "code",
      "source": [
        "\n",
        "df.info()"
      ],
      "metadata": {
        "colab": {
          "base_uri": "https://localhost:8080/"
        },
        "id": "2jExjBB3nsOz",
        "outputId": "575229b1-09c0-484d-a46b-6fddff696a91"
      },
      "execution_count": 243,
      "outputs": [
        {
          "output_type": "stream",
          "name": "stdout",
          "text": [
            "<class 'pandas.core.frame.DataFrame'>\n",
            "RangeIndex: 299 entries, 0 to 298\n",
            "Data columns (total 13 columns):\n",
            " #   Column                    Non-Null Count  Dtype  \n",
            "---  ------                    --------------  -----  \n",
            " 0   age                       299 non-null    float64\n",
            " 1   anaemia                   299 non-null    int64  \n",
            " 2   creatinine_phosphokinase  299 non-null    int64  \n",
            " 3   diabetes                  299 non-null    int64  \n",
            " 4   ejection_fraction         299 non-null    int64  \n",
            " 5   high_blood_pressure       299 non-null    int64  \n",
            " 6   platelets                 299 non-null    float64\n",
            " 7   serum_creatinine          299 non-null    float64\n",
            " 8   serum_sodium              299 non-null    int64  \n",
            " 9   sex                       299 non-null    int64  \n",
            " 10  smoking                   299 non-null    int64  \n",
            " 11  time                      299 non-null    int64  \n",
            " 12  DEATH_EVENT               299 non-null    int64  \n",
            "dtypes: float64(3), int64(10)\n",
            "memory usage: 30.5 KB\n"
          ]
        }
      ]
    },
    {
      "cell_type": "code",
      "source": [
        "df.isnull().sum()"
      ],
      "metadata": {
        "colab": {
          "base_uri": "https://localhost:8080/"
        },
        "id": "3ukQcMRYkto7",
        "outputId": "edeb016a-6c28-4bc3-e1f5-6aaa1f971519"
      },
      "execution_count": 244,
      "outputs": [
        {
          "output_type": "execute_result",
          "data": {
            "text/plain": [
              "age                         0\n",
              "anaemia                     0\n",
              "creatinine_phosphokinase    0\n",
              "diabetes                    0\n",
              "ejection_fraction           0\n",
              "high_blood_pressure         0\n",
              "platelets                   0\n",
              "serum_creatinine            0\n",
              "serum_sodium                0\n",
              "sex                         0\n",
              "smoking                     0\n",
              "time                        0\n",
              "DEATH_EVENT                 0\n",
              "dtype: int64"
            ]
          },
          "metadata": {},
          "execution_count": 244
        }
      ]
    },
    {
      "cell_type": "code",
      "source": [
        "df.dtypes"
      ],
      "metadata": {
        "colab": {
          "base_uri": "https://localhost:8080/"
        },
        "id": "VoyXipC8jCrF",
        "outputId": "41a0f4a0-5061-45b3-8ab5-e61a9e0111e1"
      },
      "execution_count": 245,
      "outputs": [
        {
          "output_type": "execute_result",
          "data": {
            "text/plain": [
              "age                         float64\n",
              "anaemia                       int64\n",
              "creatinine_phosphokinase      int64\n",
              "diabetes                      int64\n",
              "ejection_fraction             int64\n",
              "high_blood_pressure           int64\n",
              "platelets                   float64\n",
              "serum_creatinine            float64\n",
              "serum_sodium                  int64\n",
              "sex                           int64\n",
              "smoking                       int64\n",
              "time                          int64\n",
              "DEATH_EVENT                   int64\n",
              "dtype: object"
            ]
          },
          "metadata": {},
          "execution_count": 245
        }
      ]
    },
    {
      "cell_type": "markdown",
      "source": [
        "# Time column is unneeded, so we will drop it"
      ],
      "metadata": {
        "id": "NidwxPRak4Z7"
      }
    },
    {
      "cell_type": "code",
      "source": [
        "df.drop('time',inplace=True,axis=1)"
      ],
      "metadata": {
        "id": "bSpygJQvn4b-"
      },
      "execution_count": 246,
      "outputs": []
    },
    {
      "cell_type": "markdown",
      "source": [
        "# Assigning X and Y variables"
      ],
      "metadata": {
        "id": "GR3gPMYok_9V"
      }
    },
    {
      "cell_type": "code",
      "source": [
        "X = df.drop(['DEATH_EVENT'],axis=1)\n",
        "y = df['DEATH_EVENT']"
      ],
      "metadata": {
        "id": "34YAPrX-n_6O"
      },
      "execution_count": 247,
      "outputs": []
    },
    {
      "cell_type": "markdown",
      "source": [
        "# Since we have an unbalanced y, we will stratify our y when splitting the data after scaling our X variable"
      ],
      "metadata": {
        "id": "GMtC-QfulDyH"
      }
    },
    {
      "cell_type": "code",
      "source": [
        "df.DEATH_EVENT.value_counts()"
      ],
      "metadata": {
        "colab": {
          "base_uri": "https://localhost:8080/"
        },
        "id": "UsKTLHbBoW-d",
        "outputId": "4e1305c3-37a0-4c65-f66b-339f46972b10"
      },
      "execution_count": 248,
      "outputs": [
        {
          "output_type": "execute_result",
          "data": {
            "text/plain": [
              "0    203\n",
              "1     96\n",
              "Name: DEATH_EVENT, dtype: int64"
            ]
          },
          "metadata": {},
          "execution_count": 248
        }
      ]
    },
    {
      "cell_type": "code",
      "source": [
        "\n",
        "scaler = StandardScaler()\n",
        "\n",
        "\n",
        "X = scaler.fit_transform(X)"
      ],
      "metadata": {
        "id": "VEYTZzYfodxC"
      },
      "execution_count": 249,
      "outputs": []
    },
    {
      "cell_type": "code",
      "source": [
        "X_train, X_test,y_train,y_test = train_test_split(X,y, \n",
        "                                                  test_size =.2,\n",
        "                                                  random_state=20, \n",
        "                                                  stratify=y)"
      ],
      "metadata": {
        "id": "JoQ2SR_Uodsu"
      },
      "execution_count": 250,
      "outputs": []
    },
    {
      "cell_type": "markdown",
      "source": [
        "# Creating the parameters for our models "
      ],
      "metadata": {
        "id": "lwUODTqJlhcR"
      }
    },
    {
      "cell_type": "code",
      "source": [
        "log_clf = LogisticRegression(solver='lbfgs',\n",
        "                             multi_class='multinomial', \n",
        "                             max_iter = 10000)\n",
        "\n",
        "rnd_clf = RandomForestClassifier(criterion='entropy',\n",
        "                                 max_features='sqrt')\n",
        "\n",
        "\n",
        "svm_clf= SVC(gamma='auto',probability = True, C=10,kernel = 'rbf')\n",
        "\n",
        "dt_clf = DecisionTreeClassifier(criterion='gini',\n",
        "                                splitter='best')"
      ],
      "metadata": {
        "id": "Qd2cXEyyodnY"
      },
      "execution_count": 251,
      "outputs": []
    },
    {
      "cell_type": "code",
      "source": [
        "from sklearn.ensemble import RandomForestClassifier, VotingClassifier"
      ],
      "metadata": {
        "id": "7Vo258vLsnQP"
      },
      "execution_count": 252,
      "outputs": []
    },
    {
      "cell_type": "markdown",
      "source": [
        "# Initializing the Voting Classifier"
      ],
      "metadata": {
        "id": "RAuKbKJeluxI"
      }
    },
    {
      "cell_type": "code",
      "source": [
        "voting_clf = VotingClassifier( \n",
        "    estimators=[('lr',log_clf),\n",
        "                ('rf',rnd_clf),\n",
        "                ('sv',svm_clf),\n",
        "                ('dt',dt_clf)],  \n",
        "                voting = 'hard')\n"
      ],
      "metadata": {
        "id": "nyPwziOXqaRg"
      },
      "execution_count": 253,
      "outputs": []
    },
    {
      "cell_type": "code",
      "source": [
        "voting_clf.fit(X_train,y_train)\n",
        "voting_clf.score(X_test,y_test)"
      ],
      "metadata": {
        "colab": {
          "base_uri": "https://localhost:8080/"
        },
        "id": "NBMJWLKdqjLJ",
        "outputId": "60a26bb5-81b9-47d7-e4b7-275e56dafbf1"
      },
      "execution_count": 254,
      "outputs": [
        {
          "output_type": "execute_result",
          "data": {
            "text/plain": [
              "0.7"
            ]
          },
          "metadata": {},
          "execution_count": 254
        }
      ]
    },
    {
      "cell_type": "code",
      "source": [
        "#Testing to see if the model is overfitting, which it is\n",
        "\n",
        "\n",
        "voting_clf.score(X_train,y_train)"
      ],
      "metadata": {
        "colab": {
          "base_uri": "https://localhost:8080/"
        },
        "id": "OSoMuVrfl8Gu",
        "outputId": "42156ba4-0f64-4d2d-9352-9c521ecb7849"
      },
      "execution_count": 255,
      "outputs": [
        {
          "output_type": "execute_result",
          "data": {
            "text/plain": [
              "0.9832635983263598"
            ]
          },
          "metadata": {},
          "execution_count": 255
        }
      ]
    },
    {
      "cell_type": "code",
      "source": [
        "y_pred_vote = voting_clf.predict(X_test)\n",
        "cmd = confusion_matrix(y_test,y_pred_vote)\n",
        "sns.heatmap(cmd)"
      ],
      "metadata": {
        "colab": {
          "base_uri": "https://localhost:8080/",
          "height": 282
        },
        "id": "FTQvDTkWj6iL",
        "outputId": "94d810c7-a434-4341-b52d-42b7ee90802f"
      },
      "execution_count": 256,
      "outputs": [
        {
          "output_type": "execute_result",
          "data": {
            "text/plain": [
              "<matplotlib.axes._subplots.AxesSubplot at 0x7f91276cdf90>"
            ]
          },
          "metadata": {},
          "execution_count": 256
        },
        {
          "output_type": "display_data",
          "data": {
            "text/plain": [
              "<Figure size 432x288 with 2 Axes>"
            ],
            "image/png": "[encoded data removed]"
          },
          "metadata": {
            "needs_background": "light"
          }
        }
      ]
    },
    {
      "cell_type": "markdown",
      "source": [
        "# Initializing the Bagging Classifier, but using our voting ensemble as the model"
      ],
      "metadata": {
        "id": "CdBT3ZTwmIN3"
      }
    },
    {
      "cell_type": "code",
      "source": [
        "bag_clf = BaggingClassifier(voting_clf, \n",
        "           n_estimators=500, \n",
        "           max_samples = .8, \n",
        "           oob_score=True,\n",
        "           random_state=0)"
      ],
      "metadata": {
        "id": "HaTbGxfzt8KA"
      },
      "execution_count": 257,
      "outputs": []
    },
    {
      "cell_type": "code",
      "source": [
        "bag_clf.fit(X_train,y_train)"
      ],
      "metadata": {
        "colab": {
          "base_uri": "https://localhost:8080/"
        },
        "id": "VDtHloMruBA4",
        "outputId": "1736e8e6-42c4-4b5b-d04a-507b0fb0f7ea"
      },
      "execution_count": 258,
      "outputs": [
        {
          "output_type": "execute_result",
          "data": {
            "text/plain": [
              "BaggingClassifier(base_estimator=VotingClassifier(estimators=[('lr',\n",
              "                                                               LogisticRegression(max_iter=10000,\n",
              "                                                                                  multi_class='multinomial')),\n",
              "                                                              ('rf',\n",
              "                                                               RandomForestClassifier(criterion='entropy',\n",
              "                                                                                      max_features='sqrt')),\n",
              "                                                              ('sv',\n",
              "                                                               SVC(C=10,\n",
              "                                                                   gamma='auto',\n",
              "                                                                   probability=True)),\n",
              "                                                              ('dt',\n",
              "                                                               DecisionTreeClassifier())]),\n",
              "                  max_samples=0.8, n_estimators=500, oob_score=True,\n",
              "                  random_state=0)"
            ]
          },
          "metadata": {},
          "execution_count": 258
        }
      ]
    },
    {
      "cell_type": "code",
      "source": [
        "\n",
        "bag_clf.score(X_train,y_train)"
      ],
      "metadata": {
        "colab": {
          "base_uri": "https://localhost:8080/"
        },
        "id": "EOEqWOFluFNl",
        "outputId": "2942b495-fa7e-48a9-9d3e-f38508a029e5"
      },
      "execution_count": 259,
      "outputs": [
        {
          "output_type": "execute_result",
          "data": {
            "text/plain": [
              "0.9748953974895398"
            ]
          },
          "metadata": {},
          "execution_count": 259
        }
      ]
    },
    {
      "cell_type": "code",
      "source": [
        "bag_clf.score(X_test,y_test)"
      ],
      "metadata": {
        "colab": {
          "base_uri": "https://localhost:8080/"
        },
        "id": "Al-fuNCyuIGj",
        "outputId": "e519382d-92ce-46d4-edac-4e300587d77d"
      },
      "execution_count": 260,
      "outputs": [
        {
          "output_type": "execute_result",
          "data": {
            "text/plain": [
              "0.75"
            ]
          },
          "metadata": {},
          "execution_count": 260
        }
      ]
    },
    {
      "cell_type": "markdown",
      "source": [
        "# Again, overfitting our data\n",
        "\n"
      ],
      "metadata": {
        "id": "-KyVgdN_mSBJ"
      }
    },
    {
      "cell_type": "code",
      "source": [
        "y_pred_bag = bag_clf.predict(X_test)\n",
        "cmd = confusion_matrix(y_test,y_pred_bag)\n",
        "sns.heatmap(cmd)"
      ],
      "metadata": {
        "colab": {
          "base_uri": "https://localhost:8080/",
          "height": 282
        },
        "id": "_HGHrMYunbtN",
        "outputId": "6d44016f-bdf1-4dce-a39a-9b111e9a9896"
      },
      "execution_count": 261,
      "outputs": [
        {
          "output_type": "execute_result",
          "data": {
            "text/plain": [
              "<matplotlib.axes._subplots.AxesSubplot at 0x7f91215b8ed0>"
            ]
          },
          "metadata": {},
          "execution_count": 261
        },
        {
          "output_type": "display_data",
          "data": {
            "text/plain": [
              "<Figure size 432x288 with 2 Axes>"
            ],
            "image/png": "[encoded data removed]"
          },
          "metadata": {
            "needs_background": "light"
          }
        }
      ]
    },
    {
      "cell_type": "markdown",
      "source": [
        "# Testing Gradient Boosting Classifier"
      ],
      "metadata": {
        "id": "pvQBhoEnmZoW"
      }
    },
    {
      "cell_type": "code",
      "source": [
        "from sklearn.ensemble import GradientBoostingClassifier \n",
        "grd_clf = GradientBoostingClassifier(n_estimators=50,\n",
        "                                     learning_rate=1,\n",
        "                                     random_state=0)\n",
        "grd_clf.fit(X_train,y_train)\n",
        "grd_clf.score(X_test,y_test)"
      ],
      "metadata": {
        "colab": {
          "base_uri": "https://localhost:8080/"
        },
        "id": "GrIyzPusuc8g",
        "outputId": "a98e8280-6d71-45a3-d098-54515011bf45"
      },
      "execution_count": 262,
      "outputs": [
        {
          "output_type": "execute_result",
          "data": {
            "text/plain": [
              "0.7166666666666667"
            ]
          },
          "metadata": {},
          "execution_count": 262
        }
      ]
    },
    {
      "cell_type": "code",
      "source": [
        "#Overfitting\n",
        "grd_clf.score(X_train,y_train)"
      ],
      "metadata": {
        "colab": {
          "base_uri": "https://localhost:8080/"
        },
        "id": "BYFkC65AxuLa",
        "outputId": "9850cc61-f969-46b0-cc4b-d0330ab3f135"
      },
      "execution_count": 263,
      "outputs": [
        {
          "output_type": "execute_result",
          "data": {
            "text/plain": [
              "1.0"
            ]
          },
          "metadata": {},
          "execution_count": 263
        }
      ]
    },
    {
      "cell_type": "code",
      "source": [
        "y_pred_grd = grd_clf.predict(X_test)\n",
        "cmd = confusion_matrix(y_test,y_pred_grd)\n",
        "sns.heatmap(cmd)"
      ],
      "metadata": {
        "colab": {
          "base_uri": "https://localhost:8080/",
          "height": 282
        },
        "id": "eNU_JB_ZxuBi",
        "outputId": "8ac710d5-af61-4ab9-81d2-cbc74aec3b4d"
      },
      "execution_count": 264,
      "outputs": [
        {
          "output_type": "execute_result",
          "data": {
            "text/plain": [
              "<matplotlib.axes._subplots.AxesSubplot at 0x7f912188e050>"
            ]
          },
          "metadata": {},
          "execution_count": 264
        },
        {
          "output_type": "display_data",
          "data": {
            "text/plain": [
              "<Figure size 432x288 with 2 Axes>"
            ],
            "image/png": "[encoded data removed]"
          },
          "metadata": {
            "needs_background": "light"
          }
        }
      ]
    },
    {
      "cell_type": "markdown",
      "source": [
        "# Testing Ada Boosting Classifier"
      ],
      "metadata": {
        "id": "6Z3GSuPMmnFy"
      }
    },
    {
      "cell_type": "code",
      "source": [
        "from sklearn.ensemble import AdaBoostClassifier\n",
        "\n",
        "ada_clf = AdaBoostClassifier(n_estimators=500, random_state=29, \n",
        "                             learning_rate=1)\n",
        "\n",
        "ada_clf.fit(X_train,y_train)\n"
      ],
      "metadata": {
        "colab": {
          "base_uri": "https://localhost:8080/"
        },
        "id": "5UKAJu3Jux0j",
        "outputId": "c811209e-b9c3-40e1-84e3-6704a31190e5"
      },
      "execution_count": 265,
      "outputs": [
        {
          "output_type": "execute_result",
          "data": {
            "text/plain": [
              "AdaBoostClassifier(learning_rate=1, n_estimators=500, random_state=29)"
            ]
          },
          "metadata": {},
          "execution_count": 265
        }
      ]
    },
    {
      "cell_type": "code",
      "source": [
        "ada_clf.score(X_test,y_test)"
      ],
      "metadata": {
        "colab": {
          "base_uri": "https://localhost:8080/"
        },
        "id": "Qbv0u3BJuxq3",
        "outputId": "4c3af6e4-ed98-4776-d0d1-38cfe569612a"
      },
      "execution_count": 266,
      "outputs": [
        {
          "output_type": "execute_result",
          "data": {
            "text/plain": [
              "0.6833333333333333"
            ]
          },
          "metadata": {},
          "execution_count": 266
        }
      ]
    },
    {
      "cell_type": "code",
      "source": [
        "ada_clf.score(X_train,y_train)"
      ],
      "metadata": {
        "colab": {
          "base_uri": "https://localhost:8080/"
        },
        "id": "gvzydO_Bu3dw",
        "outputId": "4dc34b1a-7b31-41a1-bc47-a2bedadb747e"
      },
      "execution_count": 267,
      "outputs": [
        {
          "output_type": "execute_result",
          "data": {
            "text/plain": [
              "1.0"
            ]
          },
          "metadata": {},
          "execution_count": 267
        }
      ]
    },
    {
      "cell_type": "code",
      "source": [
        "y_pred_ada = ada_clf.predict(X_test)\n",
        "cmd = confusion_matrix(y_test,y_pred_ada)\n",
        "sns.heatmap(cmd)"
      ],
      "metadata": {
        "colab": {
          "base_uri": "https://localhost:8080/",
          "height": 282
        },
        "id": "PYxAhhZun8Lm",
        "outputId": "4350219d-32bb-4302-fee5-51925fe7c743"
      },
      "execution_count": 268,
      "outputs": [
        {
          "output_type": "execute_result",
          "data": {
            "text/plain": [
              "<matplotlib.axes._subplots.AxesSubplot at 0x7f91214495d0>"
            ]
          },
          "metadata": {},
          "execution_count": 268
        },
        {
          "output_type": "display_data",
          "data": {
            "text/plain": [
              "<Figure size 432x288 with 2 Axes>"
            ],
            "image/png": "[encoded data removed]"
          },
          "metadata": {
            "needs_background": "light"
          }
        }
      ]
    },
    {
      "cell_type": "code",
      "source": [
        "import sklearn"
      ],
      "metadata": {
        "id": "mc5ABHg63n01"
      },
      "execution_count": 269,
      "outputs": []
    },
    {
      "cell_type": "markdown",
      "source": [
        "# Creating our report from our models we have used"
      ],
      "metadata": {
        "id": "5dngLPwAo-Kz"
      }
    },
    {
      "cell_type": "code",
      "source": [
        "from numpy.core.arrayprint import format_float_scientific \n",
        "from sklearn.metrics import accuracy_score,r2_score,mean_absolute_error,mean_squared_error\n",
        "\n",
        "for clf in(log_clf,rnd_clf,svm_clf,voting_clf,ada_clf,grd_clf,bag_clf):\n",
        "  clf.fit(X_train,y_train) \n",
        "  y_pred = clf.predict(X_test)\n",
        "  clf_df = clf.__class__.__name__,accuracy_score(y_test,y_pred)\n",
        "  print(clf_df)\n",
        "  mae = mean_absolute_error(y_test, y_pred)\n",
        "  mse = mean_squared_error(y_test, y_pred)\n",
        "  rmse = np.sqrt(mse) \n",
        "  r2 = r2_score(y_test, y_pred)\n",
        "  print(\"Results of sklearn.metrics:\")\n",
        "  print(\"MAE:\",mae)\n",
        "  print(\"MSE:\", mse)\n",
        "  print(\"RMSE:\", rmse)\n",
        "  print(\"R-Squared:\", r2)\n",
        "  print(classification_report(y_test,y_pred)) "
      ],
      "metadata": {
        "colab": {
          "base_uri": "https://localhost:8080/"
        },
        "id": "adsG2PQNurTP",
        "outputId": "3cc78266-d0d6-4b53-d87c-1566d72abfba"
      },
      "execution_count": 270,
      "outputs": [
        {
          "output_type": "stream",
          "name": "stdout",
          "text": [
            "('LogisticRegression', 0.7166666666666667)\n",
            "Results of sklearn.metrics:\n",
            "MAE: 0.2833333333333333\n",
            "MSE: 0.2833333333333333\n",
            "RMSE: 0.5322906474223771\n",
            "R-Squared: -0.3093709884467266\n",
            "              precision    recall  f1-score   support\n",
            "\n",
            "           0       0.76      0.85      0.80        41\n",
            "           1       0.57      0.42      0.48        19\n",
            "\n",
            "    accuracy                           0.72        60\n",
            "   macro avg       0.67      0.64      0.64        60\n",
            "weighted avg       0.70      0.72      0.70        60\n",
            "\n",
            "('RandomForestClassifier', 0.7166666666666667)\n",
            "Results of sklearn.metrics:\n",
            "MAE: 0.2833333333333333\n",
            "MSE: 0.2833333333333333\n",
            "RMSE: 0.5322906474223771\n",
            "R-Squared: -0.3093709884467266\n",
            "              precision    recall  f1-score   support\n",
            "\n",
            "           0       0.80      0.78      0.79        41\n",
            "           1       0.55      0.58      0.56        19\n",
            "\n",
            "    accuracy                           0.72        60\n",
            "   macro avg       0.68      0.68      0.68        60\n",
            "weighted avg       0.72      0.72      0.72        60\n",
            "\n",
            "('SVC', 0.6666666666666666)\n",
            "Results of sklearn.metrics:\n",
            "MAE: 0.3333333333333333\n",
            "MSE: 0.3333333333333333\n",
            "RMSE: 0.5773502691896257\n",
            "R-Squared: -0.5404364569961491\n",
            "              precision    recall  f1-score   support\n",
            "\n",
            "           0       0.77      0.73      0.75        41\n",
            "           1       0.48      0.53      0.50        19\n",
            "\n",
            "    accuracy                           0.67        60\n",
            "   macro avg       0.62      0.63      0.62        60\n",
            "weighted avg       0.68      0.67      0.67        60\n",
            "\n",
            "('VotingClassifier', 0.7)\n",
            "Results of sklearn.metrics:\n",
            "MAE: 0.3\n",
            "MSE: 0.3\n",
            "RMSE: 0.5477225575051661\n",
            "R-Squared: -0.386392811296534\n",
            "              precision    recall  f1-score   support\n",
            "\n",
            "           0       0.76      0.83      0.79        41\n",
            "           1       0.53      0.42      0.47        19\n",
            "\n",
            "    accuracy                           0.70        60\n",
            "   macro avg       0.64      0.63      0.63        60\n",
            "weighted avg       0.69      0.70      0.69        60\n",
            "\n",
            "('AdaBoostClassifier', 0.6833333333333333)\n",
            "Results of sklearn.metrics:\n",
            "MAE: 0.31666666666666665\n",
            "MSE: 0.31666666666666665\n",
            "RMSE: 0.5627314338711378\n",
            "R-Squared: -0.46341463414634165\n",
            "              precision    recall  f1-score   support\n",
            "\n",
            "           0       0.82      0.68      0.75        41\n",
            "           1       0.50      0.68      0.58        19\n",
            "\n",
            "    accuracy                           0.68        60\n",
            "   macro avg       0.66      0.68      0.66        60\n",
            "weighted avg       0.72      0.68      0.69        60\n",
            "\n",
            "('GradientBoostingClassifier', 0.7166666666666667)\n",
            "Results of sklearn.metrics:\n",
            "MAE: 0.2833333333333333\n",
            "MSE: 0.2833333333333333\n",
            "RMSE: 0.5322906474223771\n",
            "R-Squared: -0.3093709884467266\n",
            "              precision    recall  f1-score   support\n",
            "\n",
            "           0       0.85      0.71      0.77        41\n",
            "           1       0.54      0.74      0.62        19\n",
            "\n",
            "    accuracy                           0.72        60\n",
            "   macro avg       0.70      0.72      0.70        60\n",
            "weighted avg       0.75      0.72      0.73        60\n",
            "\n",
            "('BaggingClassifier', 0.75)\n",
            "Results of sklearn.metrics:\n",
            "MAE: 0.25\n",
            "MSE: 0.25\n",
            "RMSE: 0.5\n",
            "R-Squared: -0.1553273427471118\n",
            "              precision    recall  f1-score   support\n",
            "\n",
            "           0       0.75      0.95      0.84        41\n",
            "           1       0.75      0.32      0.44        19\n",
            "\n",
            "    accuracy                           0.75        60\n",
            "   macro avg       0.75      0.63      0.64        60\n",
            "weighted avg       0.75      0.75      0.71        60\n",
            "\n"
          ]
        }
      ]
    },
    {
      "cell_type": "code",
      "source": [],
      "metadata": {
        "id": "DuR0Zhq-xPRo"
      },
      "execution_count": 270,
      "outputs": []
    }
  ]
}